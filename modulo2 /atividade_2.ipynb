{
  "nbformat": 4,
  "nbformat_minor": 0,
  "metadata": {
    "colab": {
      "provenance": [],
      "authorship_tag": "ABX9TyNEDJW+9knx7hoPNs7f6FOj",
      "include_colab_link": true
    },
    "kernelspec": {
      "name": "python3",
      "display_name": "Python 3"
    },
    "language_info": {
      "name": "python"
    }
  },
  "cells": [
    {
      "cell_type": "markdown",
      "metadata": {
        "id": "view-in-github",
        "colab_type": "text"
      },
      "source": [
        "<a href=\"https://colab.research.google.com/github/ChristianFel7/bootcampAvantiML/blob/main/modulo2%20/atividade_2.ipynb\" target=\"_parent\"><img src=\"https://colab.research.google.com/assets/colab-badge.svg\" alt=\"Open In Colab\"/></a>"
      ]
    },
    {
      "cell_type": "markdown",
      "source": [
        "**1 - Escreva uma função que receba uma lista de números e retorne outra lista\n",
        "com os números ímpares.**\n"
      ],
      "metadata": {
        "id": "x_oIB9dbmweG"
      }
    },
    {
      "cell_type": "code",
      "source": [
        "def return_impar():\n",
        "  impares = []\n",
        "  elementos = input(\"Introduza os elementos separados por espaços: \").split()\n",
        "  print(\"Lista recebida: \", elementos)\n",
        "  for elemento in elementos:\n",
        "    if int(elemento) % 2 != 0:\n",
        "      impares.append(elemento)\n",
        "  return impares\n",
        "print( \"Lista de números impares: \", return_impar())"
      ],
      "metadata": {
        "colab": {
          "base_uri": "https://localhost:8080/"
        },
        "id": "kg9R78E-mwPx",
        "outputId": "c67ca92c-c399-47af-a7c6-058a77b81367"
      },
      "execution_count": 10,
      "outputs": [
        {
          "output_type": "stream",
          "name": "stdout",
          "text": [
            "Introduza os elementos separados por espaços: 1 2 3 4 5 5 6 5 4 2 34 33 31 13\n",
            "Lista recebida:  ['1', '2', '3', '4', '5', '5', '6', '5', '4', '2', '34', '33', '31', '13']\n",
            "Lista de números impares:  ['1', '3', '5', '5', '5', '33', '31', '13']\n"
          ]
        }
      ]
    },
    {
      "cell_type": "markdown",
      "source": [
        "Também pode ser feito passando a lista por argumento"
      ],
      "metadata": {
        "id": "Oqmha1XgqNxm"
      }
    },
    {
      "cell_type": "code",
      "source": [
        "def return_impar2(elementos):\n",
        "  impares = []\n",
        "  for elemento in elementos:\n",
        "    if int(elemento) % 2 != 0:\n",
        "      impares.append(elemento)\n",
        "  return impares\n",
        "return_impar2(['1', '2', '3', '4', '5', '5', '6', '5', '4', '2', '34', '33', '31', '13'])"
      ],
      "metadata": {
        "colab": {
          "base_uri": "https://localhost:8080/"
        },
        "id": "VfLtU68DqOPz",
        "outputId": "71d21e73-2a90-4126-818a-2676f7b19ef7"
      },
      "execution_count": 20,
      "outputs": [
        {
          "output_type": "execute_result",
          "data": {
            "text/plain": [
              "['1', '3', '5', '5', '5', '33', '31', '13']"
            ]
          },
          "metadata": {},
          "execution_count": 20
        }
      ]
    },
    {
      "cell_type": "markdown",
      "source": [
        "**2 - Escreva uma função que receba uma lista de números e retorne outra lista\n",
        "com os números primos presentes.**\n"
      ],
      "metadata": {
        "id": "XLAnqpBuoTjP"
      }
    },
    {
      "cell_type": "code",
      "execution_count": 16,
      "metadata": {
        "colab": {
          "base_uri": "https://localhost:8080/"
        },
        "id": "RLjoJ1ZyqED3",
        "outputId": "16ed619f-1c60-42d4-cff9-01a6727cb9e2"
      },
      "outputs": [
        {
          "output_type": "stream",
          "name": "stdout",
          "text": [
            "Introduza os elementos separados por espaços: 91 121 127 137 97\n",
            "Lista recebida:  ['91', '121', '127', '137', '97']\n",
            "Lista de números primos:  ['127', '137', '97']\n"
          ]
        }
      ],
      "source": [
        "def return_primos():\n",
        "  primos = []\n",
        "  elementos = input(\"Introduza os elementos separados por espaços: \").split()\n",
        "  print(\"Lista recebida: \", elementos)\n",
        "  for elemento in elementos:\n",
        "    for i in range(2,int(int(elemento)** 0.5) + 1):\n",
        "      if int(elemento) % i == 0:\n",
        "        break\n",
        "    else:\n",
        "      primos.append(elemento)\n",
        "  return primos\n",
        "print( \"Lista de números primos: \", return_primos())"
      ]
    },
    {
      "cell_type": "markdown",
      "source": [
        "Também pode ser feito passando a lista por argumento"
      ],
      "metadata": {
        "id": "MqDSfCkGpq75"
      }
    },
    {
      "cell_type": "code",
      "source": [
        "def return_primos2(elementos):\n",
        "  primos = []\n",
        "  for elemento in elementos:\n",
        "    for i in range(2,int(int(elemento)** 0.5) + 1):\n",
        "      if int(elemento) % i == 0:\n",
        "        break\n",
        "    else:\n",
        "      primos.append(elemento)\n",
        "  return primos\n",
        "return_primos2(['91', '121', '127', '137', '97'])"
      ],
      "metadata": {
        "colab": {
          "base_uri": "https://localhost:8080/"
        },
        "id": "N6XxnVm5px-A",
        "outputId": "b5fb72c8-e031-4477-f749-e3e57751c216"
      },
      "execution_count": 19,
      "outputs": [
        {
          "output_type": "execute_result",
          "data": {
            "text/plain": [
              "['127', '137', '97']"
            ]
          },
          "metadata": {},
          "execution_count": 19
        }
      ]
    },
    {
      "cell_type": "markdown",
      "source": [
        "**3 - Escreva uma função que receba duas listas e retorne outra lista com os\n",
        "elementos que estão presentes em apenas uma das listas.**"
      ],
      "metadata": {
        "id": "EbGYDboPp2lE"
      }
    },
    {
      "cell_type": "code",
      "source": [
        "def return_exclusivos():\n",
        "  exclusivos = []\n",
        "  lista1 = input(\"Introduza os elementos separados por espaços: \").split()\n",
        "  lista2 = input(\"Introduza os elementos separados por espaços: \").split()\n",
        "  print(\"Primeira lista recebida: \", lista1)\n",
        "  print(\"Segunda lista recebida: \", lista2)\n",
        "  for elemento in lista1:\n",
        "    if elemento not in lista2:\n",
        "      exclusivos.append(elemento)\n",
        "  for elemento in lista2:\n",
        "    if elemento not in lista1:\n",
        "      exclusivos.append(elemento)\n",
        "  return exclusivos\n",
        "print( \"Lista de exclusivos: \", return_exclusivos())"
      ],
      "metadata": {
        "colab": {
          "base_uri": "https://localhost:8080/"
        },
        "id": "wBo6EHzfp3Tv",
        "outputId": "79c33618-d3fe-46af-e9cd-e8a48487c417"
      },
      "execution_count": 17,
      "outputs": [
        {
          "output_type": "stream",
          "name": "stdout",
          "text": [
            "Introduza os elementos separados por espaços: c1 c2 c3 c4 c7 c8 c15 c22\n",
            "Introduza os elementos separados por espaços: c2 cb c7 c9 c10 c11 c12\n",
            "Primeira lista recebida:  ['c1', 'c2', 'c3', 'c4', 'c7', 'c8', 'c15', 'c22']\n",
            "Segunda lista recebida:  ['c2', 'cb', 'c7', 'c9', 'c10', 'c11', 'c12']\n",
            "Lista de exclusivos:  ['c1', 'c3', 'c4', 'c8', 'c15', 'c22', 'cb', 'c9', 'c10', 'c11', 'c12']\n"
          ]
        }
      ]
    },
    {
      "cell_type": "markdown",
      "source": [
        "Também pode ser feito passando a lista por argumento"
      ],
      "metadata": {
        "id": "0EFhxlhlqyN5"
      }
    },
    {
      "cell_type": "code",
      "source": [
        "def return_exclusivos2(lista1, lista2):\n",
        "  exclusivos = []\n",
        "  for elemento in lista1:\n",
        "    if elemento not in lista2:\n",
        "      exclusivos.append(elemento)\n",
        "  for elemento in lista2:\n",
        "    if elemento not in lista1:\n",
        "      exclusivos.append(elemento)\n",
        "  return exclusivos\n",
        "return_exclusivos2( ['c1', 'c2', 'c3', 'c4', 'c7', 'c8', 'c15', 'c22'],['c2', 'cb', 'c7', 'c9', 'c10', 'c11', 'c12'] )"
      ],
      "metadata": {
        "colab": {
          "base_uri": "https://localhost:8080/"
        },
        "id": "rTTPlHseqegh",
        "outputId": "80e0a030-bcfb-495a-f94e-4ef968cbf53f"
      },
      "execution_count": 21,
      "outputs": [
        {
          "output_type": "execute_result",
          "data": {
            "text/plain": [
              "['c1', 'c3', 'c4', 'c8', 'c15', 'c22', 'cb', 'c9', 'c10', 'c11', 'c12']"
            ]
          },
          "metadata": {},
          "execution_count": 21
        }
      ]
    },
    {
      "cell_type": "markdown",
      "source": [
        "**4 - Dada uma lista de números inteiros, escreva uma função para encontrar o\n",
        "segundo maior valor na lista.**\n"
      ],
      "metadata": {
        "id": "HdF75bLArCok"
      }
    },
    {
      "cell_type": "code",
      "source": [
        "def return_segundo_maior():\n",
        "  elementos = input(\"Introduza os elementos separados por espaços: \").split()\n",
        "  print(\"Lista recebida: \", elementos)\n",
        "  maior = int(elementos[0])\n",
        "  segundo_maior = int(elementos[0])\n",
        "  for elemento in elementos:\n",
        "    if int(elemento) > maior:\n",
        "      segundo_maior = maior\n",
        "      maior = int(elemento)\n",
        "    elif int(elemento) > segundo_maior:\n",
        "      segundo_maior = int(elemento)\n",
        "\n",
        "  return segundo_maior\n",
        "print( \"Segundo maior: \", return_segundo_maior())"
      ],
      "metadata": {
        "colab": {
          "base_uri": "https://localhost:8080/"
        },
        "id": "gU9OyReRrDJS",
        "outputId": "70365624-1841-473e-89dd-9872a167acb9"
      },
      "execution_count": 19,
      "outputs": [
        {
          "output_type": "stream",
          "name": "stdout",
          "text": [
            "Introduza os elementos separados por espaços: 78 66 12 91 21 17 53 46\n",
            "Lista recebida:  ['78', '66', '12', '91', '21', '17', '53', '46']\n",
            "Segundo maior:  78\n"
          ]
        }
      ]
    },
    {
      "cell_type": "markdown",
      "source": [
        "Também pode ser feito passando a lista por argumento"
      ],
      "metadata": {
        "id": "BdboGe75qza6"
      }
    },
    {
      "cell_type": "code",
      "source": [
        "def return_segundo_maior2(elementos):\n",
        "  maior = int(elementos[0])\n",
        "  segundo_maior = int(elementos[0])\n",
        "  for elemento in elementos:\n",
        "    if int(elemento) > maior:\n",
        "      segundo_maior = maior\n",
        "      maior = int(elemento)\n",
        "    elif int(elemento) > segundo_maior:\n",
        "      segundo_maior = int(elemento)\n",
        "\n",
        "  return segundo_maior\n",
        "return_segundo_maior2(['78', '66', '12', '91', '21', '17', '53', '46'])"
      ],
      "metadata": {
        "colab": {
          "base_uri": "https://localhost:8080/"
        },
        "id": "Zj-YS4wBqz3P",
        "outputId": "6e5640ff-cbad-4aed-c926-1daf82918a22"
      },
      "execution_count": 22,
      "outputs": [
        {
          "output_type": "execute_result",
          "data": {
            "text/plain": [
              "78"
            ]
          },
          "metadata": {},
          "execution_count": 22
        }
      ]
    },
    {
      "cell_type": "markdown",
      "source": [
        "**5 - Crie uma função que receba uma lista de tuplas, cada uma contendo o\n",
        "nome e a idade de uma pessoa, e retorne a lista ordenada pelo nome das\n",
        "pessoas em ordem alfabética.**\n"
      ],
      "metadata": {
        "id": "Lek9Zkf3rlfI"
      }
    },
    {
      "cell_type": "code",
      "source": [
        "def return_list_sorted(list_tuples):\n",
        "  return list_tuples.sort()\n"
      ],
      "metadata": {
        "id": "VgPXj06orlM4"
      },
      "execution_count": 13,
      "outputs": []
    },
    {
      "cell_type": "code",
      "source": [
        "tupla_teste = [(\"Christian\", 25), (\"Dani\", 25), (\"AAAA\", 23), (\"BBBA\", 13), (\"BBBB\", 17)]\n",
        "return_list_sorted(tupla_teste)\n",
        "print(tupla_teste)"
      ],
      "metadata": {
        "colab": {
          "base_uri": "https://localhost:8080/"
        },
        "id": "L9EM_Fyzj7Za",
        "outputId": "2a8706c9-e4a0-4679-8d9f-22870841d226"
      },
      "execution_count": 18,
      "outputs": [
        {
          "output_type": "stream",
          "name": "stdout",
          "text": [
            "[('AAAA', 23), ('BBBA', 13), ('BBBB', 17), ('Christian', 25), ('Dani', 25)]\n"
          ]
        }
      ]
    },
    {
      "cell_type": "markdown",
      "source": [
        "**6 - Como identificar e tratar outliers em uma coluna numérica usando desvio\n",
        "padrão ou quartis?**"
      ],
      "metadata": {
        "id": "CGG7NdR_1U9W"
      }
    },
    {
      "cell_type": "markdown",
      "source": [
        "R:\n",
        "É possível identificar outliers utilizando quartis através do cálculo do IQR (intervalo entre quartis), que é a diferença entre o terceiro e o primeiro quartil, caso o valor analisado esteja abaixo do primeiro quartil ou acima do valor do terceiro quartil por um fator de 1,5 X IQR. Utilizando o desvio padrão, pode-se assumir que, para distribuições normais, valores acima de 2 vezes o desvio padrão da média são outliers. O tratamento pode ser feito excluindo as linhas dos registros que cumprem esses requisitos, substituindo-os pela média ou, caso as informações sejam relevantes, podem ser mantido"
      ],
      "metadata": {
        "id": "eCNgT16L1Ytu"
      }
    },
    {
      "cell_type": "markdown",
      "source": [
        "**7 - Como concatenar vários DataFrames (empilhando linhas ou colunas),\n",
        "mesmo que tenham colunas diferentes?\n",
        "Dica: Utiliza-se pd.concat() especificando axis=0 (linhas) ou axis=1\n",
        "(colunas). Quando há colunas diferentes, os valores ausentes são\n",
        "preenchidos com NaN.**"
      ],
      "metadata": {
        "id": "2fvnjDFe174M"
      }
    },
    {
      "cell_type": "markdown",
      "source": [
        "R:\n",
        "\n",
        "Para concatenar vários DataFrames no pandas, utiliza-se o método pd.concat().\n",
        "*   Quando axis=0 (padrão), os DataFrames são concatenados empilhando linhas.\n",
        "*   Quando axis=1, a concatenação é feita empilhando colunas.\n",
        "\n",
        "Se os DataFrames possuírem colunas diferentes, os valores ausentes serão preenchidos automaticamente com NaN."
      ],
      "metadata": {
        "id": "VDeKx9hf1_sH"
      }
    },
    {
      "cell_type": "markdown",
      "source": [
        "**8 - Utilizando pandas, como realizar a leitura de um arquivo CSV em um\n",
        "DataFrame e exibir as primeiras linhas?**"
      ],
      "metadata": {
        "id": "RO9XOO3o2DU2"
      }
    },
    {
      "cell_type": "markdown",
      "source": [
        "R:\n",
        "Para realizar a leitura é possível utilizar o método: **pd.read_csv()**\n",
        "Para exibir as primeiras linhas: **dataframe.head()**, passando entre os parenteses o valor a ser mostrado, caso não passe nenhum valor, será exibido as primeiras 5 linhas."
      ],
      "metadata": {
        "id": "AOe5kMbb2H4N"
      }
    },
    {
      "cell_type": "markdown",
      "source": [
        "**9 - Utilizando pandas, como selecionar uma coluna específica e filtrar linhas\n",
        "em um “DataFrame” com base em uma condição?**"
      ],
      "metadata": {
        "id": "rD1Sig2k2IYi"
      }
    },
    {
      "cell_type": "markdown",
      "source": [
        "R:\n",
        "Passando o nome da coluna entre colchetes você consegue selecionar uma coluna específica: df[\"nome_coluna\"]\n",
        "Para filtrar linhas, pode passar a condição dentro dos colchetes também: df[df[\"nome_coluna\"] > 10]\n"
      ],
      "metadata": {
        "id": "gwIZenjt2Mvc"
      }
    },
    {
      "cell_type": "markdown",
      "source": [
        "**10 - Utilizando pandas, como lidar com valores ausentes (NaN) em um\n",
        "DataFrame?**"
      ],
      "metadata": {
        "id": "tgqGo_a12NEB"
      }
    },
    {
      "cell_type": "markdown",
      "source": [
        "R:\n",
        "Você pode substitui-los pelo valor da média ou outro valor específico utilizando o método fillna() ou entao fazer um filtro que retire esses registros do dataframe com o método dropna()"
      ],
      "metadata": {
        "id": "XuDVdf4T2SE7"
      }
    }
  ]
}