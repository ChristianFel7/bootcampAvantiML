{
  "nbformat": 4,
  "nbformat_minor": 0,
  "metadata": {
    "colab": {
      "provenance": [],
      "authorship_tag": "ABX9TyOJkjnQQHN8wHfMMQPQNq6R",
      "include_colab_link": true
    },
    "kernelspec": {
      "name": "python3",
      "display_name": "Python 3"
    },
    "language_info": {
      "name": "python"
    }
  },
  "cells": [
    {
      "cell_type": "markdown",
      "metadata": {
        "id": "view-in-github",
        "colab_type": "text"
      },
      "source": [
        "<a href=\"https://colab.research.google.com/github/ChristianFel7/bootcampAvantiML/blob/main/modulo2/atividade_2.ipynb\" target=\"_parent\"><img src=\"https://colab.research.google.com/assets/colab-badge.svg\" alt=\"Open In Colab\"/></a>"
      ]
    },
    {
      "cell_type": "markdown",
      "source": [
        "Escreva uma função que receba uma lista de números e retorne outra lista\n",
        "com os números ímpares.\n"
      ],
      "metadata": {
        "id": "x_oIB9dbmweG"
      }
    },
    {
      "cell_type": "code",
      "source": [
        "def return_impar():\n",
        "  impares = []\n",
        "  elementos = input(\"Introduza os elementos separados por espaços: \").split()\n",
        "  print(\"Lista recebida: \", elementos)\n",
        "  for elemento in elementos:\n",
        "    if int(elemento) % 2 != 0:\n",
        "      impares.append(elemento)\n",
        "  return impares\n",
        "print( \"Lista de números impares: \", return_impar())"
      ],
      "metadata": {
        "colab": {
          "base_uri": "https://localhost:8080/"
        },
        "id": "kg9R78E-mwPx",
        "outputId": "c67ca92c-c399-47af-a7c6-058a77b81367"
      },
      "execution_count": 10,
      "outputs": [
        {
          "output_type": "stream",
          "name": "stdout",
          "text": [
            "Introduza os elementos separados por espaços: 1 2 3 4 5 5 6 5 4 2 34 33 31 13\n",
            "Lista recebida:  ['1', '2', '3', '4', '5', '5', '6', '5', '4', '2', '34', '33', '31', '13']\n",
            "Lista de números impares:  ['1', '3', '5', '5', '5', '33', '31', '13']\n"
          ]
        }
      ]
    },
    {
      "cell_type": "markdown",
      "source": [
        "Escreva uma função que receba uma lista de números e retorne outra lista\n",
        "com os números primos presentes.\n"
      ],
      "metadata": {
        "id": "XLAnqpBuoTjP"
      }
    },
    {
      "cell_type": "code",
      "execution_count": 16,
      "metadata": {
        "colab": {
          "base_uri": "https://localhost:8080/"
        },
        "id": "RLjoJ1ZyqED3",
        "outputId": "16ed619f-1c60-42d4-cff9-01a6727cb9e2"
      },
      "outputs": [
        {
          "output_type": "stream",
          "name": "stdout",
          "text": [
            "Introduza os elementos separados por espaços: 91 121 127 137 97\n",
            "Lista recebida:  ['91', '121', '127', '137', '97']\n",
            "Lista de números primos:  ['127', '137', '97']\n"
          ]
        }
      ],
      "source": [
        "def return_primos():\n",
        "  primos = []\n",
        "  elementos = input(\"Introduza os elementos separados por espaços: \").split()\n",
        "  print(\"Lista recebida: \", elementos)\n",
        "  for elemento in elementos:\n",
        "    for i in range(2,int(int(elemento)** 0.5) + 1):\n",
        "      if int(elemento) % i == 0:\n",
        "        break\n",
        "    else:\n",
        "      primos.append(elemento)\n",
        "  return primos\n",
        "print( \"Lista de números primos: \", return_primos())"
      ]
    },
    {
      "cell_type": "markdown",
      "source": [
        "Escreva uma função que receba duas listas e retorne outra lista com os\n",
        "elementos que estão presentes em apenas uma das listas."
      ],
      "metadata": {
        "id": "EbGYDboPp2lE"
      }
    },
    {
      "cell_type": "code",
      "source": [
        "def return_exclusivos():\n",
        "  exclusivos = []\n",
        "  lista1 = input(\"Introduza os elementos separados por espaços: \").split()\n",
        "  lista2 = input(\"Introduza os elementos separados por espaços: \").split()\n",
        "  print(\"Primeira lista recebida: \", lista1)\n",
        "  print(\"Segunda lista recebida: \", lista2)\n",
        "  for elemento in lista1:\n",
        "    if elemento not in lista2:\n",
        "      exclusivos.append(elemento)\n",
        "  for elemento in lista2:\n",
        "    if elemento not in lista1:\n",
        "      exclusivos.append(elemento)\n",
        "  return exclusivos\n",
        "print( \"Lista de exclusivos: \", return_exclusivos())"
      ],
      "metadata": {
        "colab": {
          "base_uri": "https://localhost:8080/"
        },
        "id": "wBo6EHzfp3Tv",
        "outputId": "79c33618-d3fe-46af-e9cd-e8a48487c417"
      },
      "execution_count": 17,
      "outputs": [
        {
          "output_type": "stream",
          "name": "stdout",
          "text": [
            "Introduza os elementos separados por espaços: c1 c2 c3 c4 c7 c8 c15 c22\n",
            "Introduza os elementos separados por espaços: c2 cb c7 c9 c10 c11 c12\n",
            "Primeira lista recebida:  ['c1', 'c2', 'c3', 'c4', 'c7', 'c8', 'c15', 'c22']\n",
            "Segunda lista recebida:  ['c2', 'cb', 'c7', 'c9', 'c10', 'c11', 'c12']\n",
            "Lista de exclusivos:  ['c1', 'c3', 'c4', 'c8', 'c15', 'c22', 'cb', 'c9', 'c10', 'c11', 'c12']\n"
          ]
        }
      ]
    },
    {
      "cell_type": "markdown",
      "source": [
        "Dada uma lista de números inteiros, escreva uma função para encontrar o\n",
        "segundo maior valor na lista.\n"
      ],
      "metadata": {
        "id": "HdF75bLArCok"
      }
    },
    {
      "cell_type": "code",
      "source": [
        "def return_segundo_maior():\n",
        "  elementos = input(\"Introduza os elementos separados por espaços: \").split()\n",
        "  print(\"Lista recebida: \", elementos)\n",
        "  maior = int(elementos[0])\n",
        "  segundo_maior = int(elementos[0])\n",
        "  for elemento in elementos:\n",
        "    if int(elemento) > maior:\n",
        "      segundo_maior = maior\n",
        "      maior = int(elemento)\n",
        "    elif int(elemento) > segundo_maior:\n",
        "      segundo_maior = int(elemento)\n",
        "\n",
        "  return segundo_maior\n",
        "print( \"Segundo maior: \", return_segundo_maior())"
      ],
      "metadata": {
        "colab": {
          "base_uri": "https://localhost:8080/"
        },
        "id": "gU9OyReRrDJS",
        "outputId": "70365624-1841-473e-89dd-9872a167acb9"
      },
      "execution_count": 19,
      "outputs": [
        {
          "output_type": "stream",
          "name": "stdout",
          "text": [
            "Introduza os elementos separados por espaços: 78 66 12 91 21 17 53 46\n",
            "Lista recebida:  ['78', '66', '12', '91', '21', '17', '53', '46']\n",
            "Segundo maior:  78\n"
          ]
        }
      ]
    },
    {
      "cell_type": "markdown",
      "source": [
        "Crie uma função que receba uma lista de tuplas, cada uma contendo o\n",
        "nome e a idade de uma pessoa, e retorne a lista ordenada pelo nome das\n",
        "pessoas em ordem alfabética.\n"
      ],
      "metadata": {
        "id": "Lek9Zkf3rlfI"
      }
    },
    {
      "cell_type": "code",
      "source": [],
      "metadata": {
        "id": "VgPXj06orlM4"
      },
      "execution_count": null,
      "outputs": []
    }
  ]
}